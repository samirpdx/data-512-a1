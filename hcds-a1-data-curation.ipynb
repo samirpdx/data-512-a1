{
 "cells": [
  {
   "cell_type": "markdown",
   "metadata": {
    "scrolled": true
   },
   "source": [
    "# A1. Data Curation\n",
    "### English Wikipedia page views, 2008 - 2017\n",
    "\n",
    "#### Samir D Patel\n",
    "#### DATA 512 - HCDS\n",
    "#### 10/19/2017"
   ]
  },
  {
   "cell_type": "markdown",
   "metadata": {},
   "source": [
    "### Objective\n",
    "\n",
    "The objective of this notebook is to reproduce an analysis of traffic on English Wikipedia over time.  I will document the process in this Jupyter notebook starting with API pulls to obtain the raw data, followed by a series of data processing steps, and ultimately a data visualization of the Wikipedia traffic."
   ]
  },
  {
   "cell_type": "markdown",
   "metadata": {},
   "source": [
    "### Step 1: Data Acquisition (API requests)"
   ]
  },
  {
   "cell_type": "markdown",
   "metadata": {},
   "source": [
    "Below is a list of relevant packages imported and used in this analysis."
   ]
  },
  {
   "cell_type": "code",
   "execution_count": 1,
   "metadata": {
    "collapsed": true
   },
   "outputs": [],
   "source": [
    "import pandas as pd\n",
    "%matplotlib inline  \n",
    "import matplotlib.pyplot as plt\n",
    "import requests\n",
    "import json "
   ]
  },
  {
   "cell_type": "markdown",
   "metadata": {},
   "source": [
    "The endpoint URL below is used extract the raw traffic data from the English Wikipedia API.  Varibles for various queries to the API are in curly braces.\n"
   ]
  },
  {
   "cell_type": "code",
   "execution_count": 2,
   "metadata": {
    "collapsed": true
   },
   "outputs": [],
   "source": [
    "endpoint = 'https://wikimedia.org/api/rest_v1/metrics/pageviews/aggregate/{project}/{access}/{agent}/{granularity}/{start}/{end}'\n",
    "headers={'User-Agent' : 'https://github.com/samirpdx', 'From' : 'sdpatel@uw.edu'}\n"
   ]
  },
  {
   "cell_type": "markdown",
   "metadata": {},
   "source": [
    "    Attribution/Credit of code provided above:  Jonathan Morgan, UW HCDE DATA 512 Professor."
   ]
  },
  {
   "cell_type": "markdown",
   "metadata": {},
   "source": [
    "### PageViews"
   ]
  },
  {
   "cell_type": "markdown",
   "metadata": {},
   "source": [
    "The steps below will detail the data acquisition for English Wikipedia \"PageViews\" which is more current and historical traffic data with more granularity.  "
   ]
  },
  {
   "cell_type": "markdown",
   "metadata": {},
   "source": [
    "To make the API call for PageViews Mobile-Web, parameters that will be referenced in the endpoint are listed in a Python dictionary (key/value pair format).  An API request is then made to the endpoint with listed parameter and the JSON data is downloaded.\n",
    "\n",
    "Attribution of code used:  Jonathan Morgan, UW HCDE DATA 512 Professor."
   ]
  },
  {
   "cell_type": "code",
   "execution_count": 3,
   "metadata": {
    "collapsed": true
   },
   "outputs": [],
   "source": [
    "\n",
    "params = {'project' : 'en.wikipedia.org',\n",
    "            'access' : 'mobile-web',\n",
    "            'agent' : 'user',\n",
    "            'granularity' : 'monthly',\n",
    "            'start' : '2015070100',\n",
    "            'end' : '2017100100'#use the first day of the following month to ensure a full month of data is collected\n",
    "            }\n",
    "\n",
    "api_call = requests.get(endpoint.format(**params))\n",
    "response1 = api_call.json()"
   ]
  },
  {
   "cell_type": "markdown",
   "metadata": {},
   "source": [
    "    Attribution/Credit of code provided above:  Jonathan Morgan, UW HCDE DATA 512 Professor."
   ]
  },
  {
   "cell_type": "markdown",
   "metadata": {},
   "source": [
    "The step below will save the JSON data locally with a provided filename."
   ]
  },
  {
   "cell_type": "code",
   "execution_count": 4,
   "metadata": {
    "collapsed": false
   },
   "outputs": [],
   "source": [
    "#saving API call to json file\n",
    "json.dump(response1, open(\"./raw_data/pageviews_mobile-web_201507-201709.json\",\"w\"),indent=4)\n"
   ]
  },
  {
   "cell_type": "markdown",
   "metadata": {},
   "source": [
    "The step below repeats the API call steps for PageViews Mobile-App, as well as saving the JSON data locally."
   ]
  },
  {
   "cell_type": "code",
   "execution_count": 5,
   "metadata": {
    "collapsed": true
   },
   "outputs": [],
   "source": [
    "\n",
    "params = {'project' : 'en.wikipedia.org',\n",
    "            'access' : 'mobile-app',\n",
    "            'agent' : 'user',\n",
    "            'granularity' : 'monthly',\n",
    "            'start' : '2015070100',\n",
    "            'end' : '2017100100'#use the first day of the following month to ensure a full month of data is collected\n",
    "            }\n",
    "\n",
    "api_call = requests.get(endpoint.format(**params))\n",
    "response2 = api_call.json()"
   ]
  },
  {
   "cell_type": "code",
   "execution_count": 6,
   "metadata": {
    "collapsed": true
   },
   "outputs": [],
   "source": [
    "#saving API call to json file\n",
    "json.dump(response2, open(\"./raw_data/pageviews_mobile-app_201507-201709.json\",\"w\"),indent=4)\n"
   ]
  },
  {
   "cell_type": "markdown",
   "metadata": {},
   "source": [
    "The step below repeats the API call for PageViews Desktop, as well as saving the JSON data locally."
   ]
  },
  {
   "cell_type": "code",
   "execution_count": 7,
   "metadata": {
    "collapsed": true
   },
   "outputs": [],
   "source": [
    "params = {'project' : 'en.wikipedia.org',\n",
    "            'access' : 'desktop',\n",
    "            'agent' : 'user',\n",
    "            'granularity' : 'monthly',\n",
    "            'start' : '2015070100',\n",
    "            'end' : '2017100100'#use the first day of the following month to ensure a full month of data is collected\n",
    "            }\n",
    "\n",
    "api_call = requests.get(endpoint.format(**params))\n",
    "response3 = api_call.json()"
   ]
  },
  {
   "cell_type": "code",
   "execution_count": 8,
   "metadata": {
    "collapsed": true
   },
   "outputs": [],
   "source": [
    "#saving API call to json file\n",
    "json.dump(response3, open(\"./raw_data/pageviews_desktop_201507-201709.json\",\"w\"),indent=4)\n"
   ]
  },
  {
   "cell_type": "markdown",
   "metadata": {},
   "source": [
    "### PageCounts"
   ]
  },
  {
   "cell_type": "markdown",
   "metadata": {},
   "source": [
    "The steps below will detail the data acquisition for English Wikipedia \"PageCounts\" which is older historical metric (used before PageViews) with less granularity.  \n",
    "\n",
    "Since the endpoint for PageCounts URL is different, it is redefined."
   ]
  },
  {
   "cell_type": "code",
   "execution_count": 9,
   "metadata": {
    "collapsed": true
   },
   "outputs": [],
   "source": [
    "endpoint = 'https://wikimedia.org/api/rest_v1/metrics/legacy/pagecounts/aggregate/{project}/{access-site}/{granularity}/{start}/{end}'\n"
   ]
  },
  {
   "cell_type": "markdown",
   "metadata": {},
   "source": [
    "The step below performs the API call for PageCounts Mobile, as well as saving the JSON data locally."
   ]
  },
  {
   "cell_type": "code",
   "execution_count": 10,
   "metadata": {
    "collapsed": true
   },
   "outputs": [],
   "source": [
    "\n",
    "params = {'project' : 'en.wikipedia.org',\n",
    "            'access-site' : 'mobile-site',\n",
    "            'granularity' : 'monthly',\n",
    "            'start' : '2008010100',\n",
    "            'end' : '2016080100'#use the first day of the following month to ensure a full month of data is collected\n",
    "            }\n",
    "\n",
    "api_call = requests.get(endpoint.format(**params))\n",
    "response4 = api_call.json()"
   ]
  },
  {
   "cell_type": "code",
   "execution_count": 11,
   "metadata": {
    "collapsed": true
   },
   "outputs": [],
   "source": [
    "#saving API call to json file\n",
    "json.dump(response4, open(\"./raw_data/pagecounts_mobile-site_200801-201607.json\",\"w\"),indent=4)\n"
   ]
  },
  {
   "cell_type": "markdown",
   "metadata": {},
   "source": [
    "The step below performs the API call for PageCounts Desktop, as well as saving the JSON data locally."
   ]
  },
  {
   "cell_type": "code",
   "execution_count": 12,
   "metadata": {
    "collapsed": true
   },
   "outputs": [],
   "source": [
    "\n",
    "params = {'project' : 'en.wikipedia.org',\n",
    "            'access-site' : 'desktop-site',\n",
    "            'granularity' : 'monthly',\n",
    "            'start' : '2008010100',\n",
    "            'end' : '2016080100'#use the first day of the following month to ensure a full month of data is collected\n",
    "            }\n",
    "\n",
    "api_call = requests.get(endpoint.format(**params))\n",
    "response5 = api_call.json()"
   ]
  },
  {
   "cell_type": "code",
   "execution_count": 13,
   "metadata": {
    "collapsed": true
   },
   "outputs": [],
   "source": [
    "#saving API call to json file\n",
    "json.dump(response5, open(\"./raw_data/pagecounts_desktop-site_200801-201607.json\",\"w\"),indent=4)\n"
   ]
  },
  {
   "cell_type": "markdown",
   "metadata": {},
   "source": [
    "### Step 2: Data Processing\n"
   ]
  },
  {
   "cell_type": "markdown",
   "metadata": {},
   "source": [
    "With the data collected from both the historical (PageCounts) and current (PageView) metrics for both mobile and desktop data, we will then begin to curate the data.\n",
    "\n",
    "The first step will be to combine the two JSON outputs for PageView Mobile-App and PageView Mobile-Web into one JSON file for all PageView Mobile views."
   ]
  },
  {
   "cell_type": "markdown",
   "metadata": {},
   "source": [
    " "
   ]
  },
  {
   "cell_type": "code",
   "execution_count": 14,
   "metadata": {
    "collapsed": true
   },
   "outputs": [],
   "source": [
    "import copy"
   ]
  },
  {
   "cell_type": "code",
   "execution_count": 15,
   "metadata": {
    "collapsed": true,
    "scrolled": true
   },
   "outputs": [],
   "source": [
    "#Applied to PV Mobile Web and App Only\n",
    "\n",
    "#creating copy to avoid overwrite\n",
    "response_pvm = copy.deepcopy(response1)  \n",
    "\n",
    "i = 0\n",
    "while i < len(response1['items']):\n",
    "    j = 0\n",
    "    response_pvm['items'][i]['access']= 'mobile-total'\n",
    "    while j < len(response2['items']):\n",
    "\n",
    "        if response1['items'][i]['timestamp'][0:6] == response2['items'][j]['timestamp'][0:6]:\n",
    "\n",
    "            response_pvm['items'][i]['views'] = response1['items'][i]['views'] + response2['items'][j]['views']\n",
    "\n",
    "        else:\n",
    "            pass\n",
    "        j+=1\n",
    "    i+=1"
   ]
  },
  {
   "cell_type": "markdown",
   "metadata": {},
   "source": [
    "The next step is creating copies of the JSON data for the PageView Desktop views, PageCount Mobile views and PageCount Desktop views.  Then new fields for \"month\" and \"year\" are created."
   ]
  },
  {
   "cell_type": "code",
   "execution_count": 16,
   "metadata": {
    "collapsed": true
   },
   "outputs": [],
   "source": [
    "response_pvd = copy.deepcopy(response3)\n",
    "response_pcm = copy.deepcopy(response4)\n",
    "response_pcd = copy.deepcopy(response5)"
   ]
  },
  {
   "cell_type": "code",
   "execution_count": 17,
   "metadata": {
    "collapsed": true,
    "scrolled": true
   },
   "outputs": [],
   "source": [
    "#Applied to PageView Mobile Total\n",
    "\n",
    "i = 0\n",
    "while i < len(response_pvm['items']):\n",
    "    #print(response_pvm['items'][i]['timestamp'][0:4])\n",
    "    response_pvm['items'][i]['year'] = response_pvm['items'][i]['timestamp'][0:4]\n",
    "    #print(response_pvm['items'][i]['timestamp'][4:6])\n",
    "    response_pvm['items'][i]['month'] = response_pvm['items'][i]['timestamp'][4:6]\n",
    "    i+=1\n"
   ]
  },
  {
   "cell_type": "code",
   "execution_count": 18,
   "metadata": {
    "collapsed": true
   },
   "outputs": [],
   "source": [
    "#Applied to PageView Desktop\n",
    "\n",
    "i = 0\n",
    "while i < len(response_pvd['items']):\n",
    "    #print(response_pvd['items'][i]['timestamp'][0:4])\n",
    "    response_pvd['items'][i]['year'] = response_pvd['items'][i]['timestamp'][0:4]\n",
    "    #print(response_pvd['items'][i]['timestamp'][4:6])\n",
    "    response_pvd['items'][i]['month'] = response_pvd['items'][i]['timestamp'][4:6]\n",
    "    i+=1\n"
   ]
  },
  {
   "cell_type": "code",
   "execution_count": 19,
   "metadata": {
    "collapsed": true
   },
   "outputs": [],
   "source": [
    "#Applied to PageCount Mobile\n",
    "\n",
    "i = 0\n",
    "while i < len(response_pcm['items']):\n",
    "    #print(response_pcm['items'][i]['timestamp'][0:4])\n",
    "    response_pcm['items'][i]['year'] = response_pcm['items'][i]['timestamp'][0:4]\n",
    "    #print(response_pcm['items'][i]['timestamp'][4:6])\n",
    "    response_pcm['items'][i]['month'] = response_pcm['items'][i]['timestamp'][4:6]\n",
    "    i+=1\n"
   ]
  },
  {
   "cell_type": "code",
   "execution_count": 20,
   "metadata": {
    "collapsed": true
   },
   "outputs": [],
   "source": [
    "#Applied to PageCount Desktop\n",
    "\n",
    "i = 0\n",
    "while i < len(response_pcd['items']):\n",
    "    #print(response_pcd['items'][i]['timestamp'][0:4])\n",
    "    response_pcd['items'][i]['year'] = response_pcd['items'][i]['timestamp'][0:4]\n",
    "    #print(response_pcd['items'][i]['timestamp'][4:6])\n",
    "    response_pcd['items'][i]['month'] = response_pcd['items'][i]['timestamp'][4:6]\n",
    "    i+=1"
   ]
  },
  {
   "cell_type": "markdown",
   "metadata": {},
   "source": [
    "The next step is to create JSON data for the total views (mobile and desktop combined) for PageViews."
   ]
  },
  {
   "cell_type": "code",
   "execution_count": 21,
   "metadata": {
    "collapsed": true
   },
   "outputs": [],
   "source": [
    "response_pv_all = copy.deepcopy(response_pvm)\n",
    "i = 0\n",
    "while i < len(response_pvm['items']):\n",
    "    j = 0\n",
    "    response_pv_all['items'][i]['access']= 'pv_total'\n",
    "    while j < len(response_pvd['items']):\n",
    "\n",
    "        if response_pvm['items'][i]['timestamp'][0:6] == response_pvd['items'][j]['timestamp'][0:6]:\n",
    "\n",
    "            response_pv_all['items'][i]['views'] = response_pvm['items'][i]['views'] + response_pvd['items'][j]['views']\n",
    "\n",
    "        else:\n",
    "            pass\n",
    "        j+=1\n",
    "    i+=1"
   ]
  },
  {
   "cell_type": "markdown",
   "metadata": {},
   "source": [
    "The same step is repeated for the total views (mobile and desktop combined) for PageCounts."
   ]
  },
  {
   "cell_type": "code",
   "execution_count": 22,
   "metadata": {
    "collapsed": true
   },
   "outputs": [],
   "source": [
    "response_pc_all = copy.deepcopy(response_pcd)\n",
    "i = 0\n",
    "while i < len(response_pcd['items']):\n",
    "    j = 0\n",
    "    #print(i)\n",
    "    response_pc_all['items'][i]['access-site']= 'pc_total'\n",
    "    while j < len(response_pcm['items']):\n",
    "        #print(j)\n",
    "        #print(response1['items'][i]['timestamp'][0:6])\n",
    "        #print(response2['items'][j]['timestamp'][0:6])\n",
    "        if response_pcd['items'][i]['timestamp'][0:6] == response_pcm['items'][j]['timestamp'][0:6]:\n",
    "            #print(response1['items'][i]['views'])\n",
    "            #print(response2['items'][j]['views'])\n",
    "            response_pc_all['items'][i]['count'] = response_pcd['items'][i]['count'] + response_pcm['items'][j]['count']\n",
    "            #print(response_pvm['items'][i]['views'])\n",
    "\n",
    "        else:\n",
    "            pass\n",
    "        j+=1\n",
    "    i+=1"
   ]
  },
  {
   "cell_type": "markdown",
   "metadata": {},
   "source": [
    " "
   ]
  },
  {
   "cell_type": "markdown",
   "metadata": {},
   "source": [
    "The next step is to combine all of the data into a single CSV with new headers. \n",
    "\n",
    "Columns will be created for the following (data types in parentheses):\n",
    "- year (int)\n",
    "- month (int)\n",
    "- pagecount_allviews (int)\n",
    "- pagecount_desktopviews (int)\n",
    "- pagecount_allviews (int)\n",
    "- pagecount_allviews (int)\n",
    "- pagecount_allviews (int)\n",
    "- pagecount_allviews (int)\n"
   ]
  },
  {
   "cell_type": "code",
   "execution_count": 23,
   "metadata": {
    "collapsed": true
   },
   "outputs": [],
   "source": [
    "#creating DataFrame to store columns\n",
    "merged_csv = pd.DataFrame()"
   ]
  },
  {
   "cell_type": "code",
   "execution_count": 24,
   "metadata": {
    "collapsed": true
   },
   "outputs": [],
   "source": [
    "#creating columns for year and month\n",
    "year= []\n",
    "month = []\n",
    "\n",
    "\n",
    "len(response_pc_all['items'])\n",
    "i = 2008\n",
    "while i <= 2017:\n",
    "    j = 1\n",
    "    while j <= 12:\n",
    "        month.append(j)\n",
    "        year.append(i)\n",
    "\n",
    "        j+=1\n",
    "    i+=1\n"
   ]
  },
  {
   "cell_type": "code",
   "execution_count": 25,
   "metadata": {
    "collapsed": true
   },
   "outputs": [],
   "source": [
    "#creating column (list object) for PageCounts Total Views\n",
    "\n",
    "pc_all=[]\n",
    "for a in range(len(year)):\n",
    "    update = False\n",
    "    for b in range(len((response_pc_all['items']))):\n",
    "\n",
    "        if int(response_pc_all['items'][b]['month']) == month[a] and int(response_pc_all['items'][b]['year']) == year[a]:\n",
    "            pc_all.append(response_pc_all['items'][b]['count'])\n",
    "            update = True\n",
    "        else:\n",
    "            pass\n",
    "    if update == False:\n",
    "        pc_all.append(0)"
   ]
  },
  {
   "cell_type": "code",
   "execution_count": 26,
   "metadata": {
    "collapsed": true
   },
   "outputs": [],
   "source": [
    "#creating column (list object) for PageCounts Desktop Views\n",
    "\n",
    "pcd = []\n",
    "\n",
    "for a in range(len(year)):\n",
    "    update = False\n",
    "    for b in range(len((response_pcd['items']))):\n",
    "\n",
    "        if int(response_pcd['items'][b]['month']) == month[a] and int(response_pcd['items'][b]['year']) == year[a]:\n",
    "            pcd.append(response_pcd['items'][b]['count'])\n",
    "            update = True\n",
    "        else:\n",
    "            pass\n",
    "    if update == False:\n",
    "        pcd.append(0)"
   ]
  },
  {
   "cell_type": "code",
   "execution_count": 27,
   "metadata": {
    "collapsed": true
   },
   "outputs": [],
   "source": [
    "#creating column (list object) for PageCounts Mobile Views\n",
    "\n",
    "pcm = []\n",
    "\n",
    "for a in range(len(year)):\n",
    "    update = False\n",
    "\n",
    "    for b in range(len((response_pcm['items']))):\n",
    "\n",
    "        if int(response_pcm['items'][b]['month']) == month[a] and int(response_pcm['items'][b]['year']) == year[a]:\n",
    "            pcm.append(response_pcm['items'][b]['count'])\n",
    "            update = True\n",
    "        else:\n",
    "            pass\n",
    "    if update == False:\n",
    "        pcm.append(0)"
   ]
  },
  {
   "cell_type": "code",
   "execution_count": 28,
   "metadata": {
    "collapsed": true
   },
   "outputs": [],
   "source": [
    "#creating column (list object) for PageView Total Views\n",
    "\n",
    "pv_all = []\n",
    "\n",
    "for a in range(len(year)):\n",
    "    update = False\n",
    "\n",
    "    for b in range(len((response_pv_all['items']))):\n",
    "\n",
    "        if int(response_pv_all['items'][b]['month']) == month[a] and int(response_pv_all['items'][b]['year']) == year[a]:\n",
    "            pv_all.append(response_pv_all['items'][b]['views'])\n",
    "            update = True\n",
    "        else:\n",
    "            pass\n",
    "    if update == False:\n",
    "        pv_all.append(0)"
   ]
  },
  {
   "cell_type": "code",
   "execution_count": 29,
   "metadata": {
    "collapsed": true
   },
   "outputs": [],
   "source": [
    "#creating column (list object) for PageViews Desktop Views\n",
    "\n",
    "pvd = []\n",
    "\n",
    "for a in range(len(year)):\n",
    "    update = False\n",
    "\n",
    "    for b in range(len((response_pvd['items']))):\n",
    "        if int(response_pvd['items'][b]['month']) == month[a] and int(response_pvd['items'][b]['year']) == year[a]:\n",
    "            pvd.append(response_pvd['items'][b]['views'])\n",
    "            update = True\n",
    "        else:\n",
    "            pass\n",
    "    if update == False:\n",
    "        pvd.append(0)"
   ]
  },
  {
   "cell_type": "code",
   "execution_count": 30,
   "metadata": {
    "collapsed": true
   },
   "outputs": [],
   "source": [
    "#creating column (list object) for PageViews Mobile Views\n",
    "\n",
    "pvm = []\n",
    "\n",
    "for a in range(len(year)):\n",
    "    update = False\n",
    "\n",
    "    for b in range(len((response_pvm['items']))):\n",
    "\n",
    "        if int(response_pvm['items'][b]['month']) == month[a] and int(response_pvm['items'][b]['year']) == year[a]:\n",
    "            pvm.append(response_pvm['items'][b]['views'])\n",
    "            update = True\n",
    "        else:\n",
    "            pass\n",
    "    if update == False:\n",
    "        pvm.append(0)"
   ]
  },
  {
   "cell_type": "markdown",
   "metadata": {},
   "source": [
    "These new columns (in list objects) can now be added to a Pandas DataFrame"
   ]
  },
  {
   "cell_type": "code",
   "execution_count": 31,
   "metadata": {
    "collapsed": true
   },
   "outputs": [],
   "source": [
    "#Adding columns to dataframe\n",
    "\n",
    "merged_csv['year'] = year\n",
    "merged_csv['month'] = month\n",
    "merged_csv['pagecount_all_views'] = pc_all\n",
    "merged_csv['pagecount_desktop_views'] = pcd\n",
    "merged_csv['pagecount_mobile_views'] = pcm\n",
    "merged_csv['pageview_all_views'] = pv_all\n",
    "merged_csv['pageview_desktop_views'] = pvd\n",
    "merged_csv['pageview_mobile_views'] = pvm"
   ]
  },
  {
   "cell_type": "markdown",
   "metadata": {},
   "source": [
    "### Step 3: Analysis"
   ]
  },
  {
   "cell_type": "markdown",
   "metadata": {},
   "source": [
    "In order to create a time series plot, the month and year columns need to be converted to datetime format. So a new list containing data for dates is created."
   ]
  },
  {
   "cell_type": "code",
   "execution_count": 32,
   "metadata": {
    "collapsed": true
   },
   "outputs": [],
   "source": [
    "#need a datetime column for plotting\n",
    "\n",
    "df = pd.DataFrame({'year':merged_csv['year'], 'month':merged_csv['month'], 'day':[1]*120})\n"
   ]
  },
  {
   "cell_type": "code",
   "execution_count": 33,
   "metadata": {
    "collapsed": true
   },
   "outputs": [],
   "source": [
    "dt = pd.to_datetime(df, format = '%Y%m%')"
   ]
  },
  {
   "cell_type": "markdown",
   "metadata": {},
   "source": [
    "The set of code below using MatPlotLib to create plots of English Wikipedia view s for both metrics.  It will also save "
   ]
  },
  {
   "cell_type": "code",
   "execution_count": 37,
   "metadata": {
    "collapsed": false,
    "scrolled": false
   },
   "outputs": [
    {
     "data": {
      "image/png": "[encoded data removed]",
      "text/plain": [
       "<matplotlib.figure.Figure at 0x1ee56c9f9e8>"
      ]
     },
     "metadata": {},
     "output_type": "display_data"
    }
   ],
   "source": [
    "plt.figure(figsize=(20, 8));\n",
    "\n",
    "plt.plot(dt[90:117], merged_csv['pageview_desktop_views'][90:117]/1e6,'g', label=\"main site\");\n",
    "plt.plot(dt[90:117], merged_csv['pageview_mobile_views'][90:117]/1e6,'b', label=\"mobile site\");\n",
    "plt.plot(dt[90:117], merged_csv['pageview_all_views'][90:117]/1e6,'k', label=\"total\",);\n",
    "\n",
    "plt.legend(['main site', 'mobile site', 'total'], fontsize = 15);\n",
    "\n",
    "plt.plot(dt[0:103], merged_csv['pagecount_desktop_views'][0:103]/1e6,'g--', label=\"main site\");\n",
    "plt.plot(dt[81:103], merged_csv['pagecount_mobile_views'][81:103]/1e6,'b--', label=\"mobile site\");\n",
    "plt.plot(dt[0:103], merged_csv['pagecount_all_views'][0:103]/1e6,'k--', label=\"total\");\n",
    "\n",
    "plt.title(\"Page Views on English Wikipedia (x 1,000,000)\", fontsize = 20);\n",
    "plt.ylim((0,12000))\n",
    "plt.yticks(fontsize = 16);\n",
    "plt.xticks(fontsize = 16);\n",
    "plt.grid(True)\n",
    "plt.xlabel(\"May 2015: a new pageview definition took effect, which eliminated all crawler traffic.  Dashed lines mark old definition\", fontsize = 14);\n",
    "plt.savefig('./images/pageviews_english_wikipedia.png')"
   ]
  },
  {
   "cell_type": "markdown",
   "metadata": {},
   "source": [
    "The step below will save the csv locally."
   ]
  },
  {
   "cell_type": "code",
   "execution_count": 35,
   "metadata": {
    "collapsed": false
   },
   "outputs": [],
   "source": [
    "#Last three rows ignored in merged_csv dataframe since they were beyond data range of API calls\n",
    "merged_csv[0:117].to_csv('./final_data/en-wikipedia_traffic_200801-201709.csv', index=False)"
   ]
  },
  {
   "cell_type": "code",
   "execution_count": null,
   "metadata": {
    "collapsed": true
   },
   "outputs": [],
   "source": []
  }
 ],
 "metadata": {
  "kernelspec": {
   "display_name": "Python 3",
   "language": "python",
   "name": "python3"
  },
  "language_info": {
   "codemirror_mode": {
    "name": "ipython",
    "version": 3
   },
   "file_extension": ".py",
   "mimetype": "text/x-python",
   "name": "python",
   "nbconvert_exporter": "python",
   "pygments_lexer": "ipython3",
   "version": "3.6.0"
  }
 },
 "nbformat": 4,
 "nbformat_minor": 2
}
